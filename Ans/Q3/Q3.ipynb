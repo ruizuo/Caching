{
 "cells": [
  {
   "cell_type": "markdown",
   "metadata": {},
   "source": [
    "### Method 1"
   ]
  },
  {
   "cell_type": "code",
   "execution_count": 2,
   "metadata": {},
   "outputs": [],
   "source": [
    "from collections import defaultdict\n",
    "\n",
    "class DSU:\n",
    "    def __init__(self):\n",
    "        self.p = list(range(10001))\n",
    "        \n",
    "    def find(self, x):\n",
    "        if self.p[x] != x:\n",
    "            self.p[x] = self.find(self.p[x])\n",
    "        return self.p[x]\n",
    "    \n",
    "    def union(self, x, y):\n",
    "        self.p[self.find(x)] = self.find(y)\n",
    "\n",
    "class Solution(object):\n",
    "    def Merge(self, data):\n",
    "        \"\"\"\n",
    "        :type data: List[tuple]\n",
    "        :rtype: list[list]\n",
    "        \"\"\"\n",
    "        \n",
    "        if not data: \n",
    "            return []\n",
    "        \n",
    "        dsu = DSU()\n",
    "        \n",
    "        name_to_id = {}\n",
    "        phone_to_id = {}\n",
    "        email_to_id = {}\n",
    "        \n",
    "        res = []\n",
    "        \n",
    "        index = 0\n",
    "        \n",
    "        for name, phone, email in data:\n",
    "            if name not in name_to_id:\n",
    "                name_to_id[name] = index\n",
    "            else:\n",
    "                dsu.union(index, name_to_id[name])\n",
    "                \n",
    "            if phone not in phone_to_id:\n",
    "                phone_to_id[phone] = index\n",
    "            else:\n",
    "                dsu.union(index, phone_to_id[phone])\n",
    "                \n",
    "            if email not in email_to_id:\n",
    "                email_to_id[email] = index\n",
    "            else:\n",
    "                dsu.union(index, email_to_id[email])\n",
    "            \n",
    "            index += 1\n",
    "        \n",
    "        ans = defaultdict(list)\n",
    "        \n",
    "        for idx, val in enumerate(data):\n",
    "            ans[dsu.find(idx)].append(idx)\n",
    "        \n",
    "        #print(dsu.p)\n",
    "        \n",
    "        for key, value in ans.items():\n",
    "            res.append(value)\n",
    "        \n",
    "        return res\n",
    "        "
   ]
  },
  {
   "cell_type": "code",
   "execution_count": 3,
   "metadata": {},
   "outputs": [
    {
     "name": "stdout",
     "output_type": "stream",
     "text": [
      "[[0, 1, 3, 4, 5], [2]]\n"
     ]
    }
   ],
   "source": [
    "data = [(\"username1\",\"phone_number1\", \"email1\"),\n",
    "        (\"username2\",\"phone_number2\", \"email2\"),\n",
    "        (\"username3\",\"phone_number3\", \"email3\"),\n",
    "        (\"username4\",\"phone_number1\", \"email4\"),\n",
    "        (\"username2\",\"phone_number5\", \"email4\"),\n",
    "        (\"username1\",\"phone_number6\", \"email6\")]\n",
    "\n",
    "solution = Solution()\n",
    "result = solution.Merge(data)\n",
    "print(result)\n"
   ]
  },
  {
   "cell_type": "markdown",
   "metadata": {},
   "source": [
    "### Method 2"
   ]
  },
  {
   "cell_type": "code",
   "execution_count": 4,
   "metadata": {},
   "outputs": [],
   "source": [
    "from collections import defaultdict\n",
    "\n",
    "class DSU:\n",
    "    def __init__(self):\n",
    "        self.p = list(range(10001))\n",
    "        \n",
    "    def find(self, x):\n",
    "        if self.p[x] != x:\n",
    "            self.p[x] = self.find(self.p[x])\n",
    "        return self.p[x]\n",
    "    \n",
    "    def union(self, x, y):\n",
    "        self.p[self.find(x)] = self.find(y)\n",
    "\n",
    "class Solution(object):\n",
    "    def Merge(self, data):\n",
    "        \"\"\"\n",
    "        :type data: List[tuple]\n",
    "        :rtype: list[list]\n",
    "        \"\"\"\n",
    "        \n",
    "        if not data: \n",
    "            return []\n",
    "        \n",
    "        dsu = DSU()\n",
    "        \n",
    "        name_to_id = {}\n",
    "        name_check = defaultdict(bool)\n",
    "        \n",
    "        phone_to_id = {}\n",
    "        phone_check = defaultdict(bool)\n",
    "        \n",
    "        email_to_id = {}\n",
    "        email_check = defaultdict(bool)\n",
    "        \n",
    "        res = []\n",
    "        \n",
    "        index = 0\n",
    "        \n",
    "        for name, phone, email in data:\n",
    "            if not name_check[name]:\n",
    "                name_to_id[name] = index\n",
    "                name_check[name] = True\n",
    "            else:\n",
    "                dsu.union(index, name_to_id[name])\n",
    "                \n",
    "            if not phone_check[phone]:\n",
    "                phone_to_id[phone] = index\n",
    "                phone_check[phone] = True\n",
    "            else:\n",
    "                dsu.union(index, phone_to_id[phone])\n",
    "                \n",
    "            if not email_check[email]:\n",
    "                email_to_id[email] = index\n",
    "                email_check[email] = True\n",
    "            else:\n",
    "                dsu.union(index, email_to_id[email])\n",
    "            \n",
    "            index += 1\n",
    "        \n",
    "        ans = defaultdict(list)\n",
    "        \n",
    "        for idx, val in enumerate(data):\n",
    "            ans[dsu.find(idx)].append(idx)\n",
    "        \n",
    "        #print(dsu.p)\n",
    "        \n",
    "        for key, value in ans.items():\n",
    "            res.append(value)\n",
    "        \n",
    "        return res\n",
    "        "
   ]
  },
  {
   "cell_type": "code",
   "execution_count": 5,
   "metadata": {},
   "outputs": [
    {
     "name": "stdout",
     "output_type": "stream",
     "text": [
      "[[0, 1, 3, 4, 5], [2]]\n"
     ]
    }
   ],
   "source": [
    "data = [(\"username1\",\"phone_number1\", \"email1\"),\n",
    "        (\"username2\",\"phone_number2\", \"email2\"),\n",
    "        (\"username3\",\"phone_number3\", \"email3\"),\n",
    "        (\"username4\",\"phone_number1\", \"email4\"),\n",
    "        (\"username2\",\"phone_number5\", \"email4\"),\n",
    "        (\"username1\",\"phone_number6\", \"email6\")]\n",
    "\n",
    "solution = Solution()\n",
    "result = solution.Merge(data)\n",
    "print(result)\n"
   ]
  },
  {
   "cell_type": "code",
   "execution_count": null,
   "metadata": {},
   "outputs": [],
   "source": []
  }
 ],
 "metadata": {
  "kernelspec": {
   "display_name": "Python 3",
   "language": "python",
   "name": "python3"
  },
  "language_info": {
   "codemirror_mode": {
    "name": "ipython",
    "version": 3
   },
   "file_extension": ".py",
   "mimetype": "text/x-python",
   "name": "python",
   "nbconvert_exporter": "python",
   "pygments_lexer": "ipython3",
   "version": "3.7.3"
  }
 },
 "nbformat": 4,
 "nbformat_minor": 2
}
