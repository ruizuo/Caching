{
 "cells": [
  {
   "cell_type": "markdown",
   "metadata": {},
   "source": [
    "## Counting the pairs with k different from an integer list."
   ]
  },
  {
   "cell_type": "markdown",
   "metadata": {},
   "source": [
    "### Case 1: If k is the absolute difference between the pairs, then k is not allowed to be negative"
   ]
  },
  {
   "cell_type": "code",
   "execution_count": 19,
   "metadata": {},
   "outputs": [],
   "source": [
    "from collections import defaultdict\n",
    "\n",
    "class Solution(object):\n",
    "    def countPairs(self, nums, k):\n",
    "        \"\"\"\n",
    "        :type nums: List[int]\n",
    "        :type k: int\n",
    "        :rtype: int\n",
    "        \"\"\"\n",
    "        \n",
    "        if not nums or k < 0: \n",
    "            return 0\n",
    "        \n",
    "        count = 0\n",
    "        dic = defaultdict(int)\n",
    "        dic_com = defaultdict(bool)\n",
    "        res = []\n",
    "        \n",
    "        for ele in nums:\n",
    "            dic[ele] += 1            \n",
    "        \n",
    "        for key in list(dic):\n",
    "            if k > 0:\n",
    "                if dic[key-k] > 0:\n",
    "                    key_new = str(key-k) + \"-\" + str(key)\n",
    "                    \n",
    "                    if not dic_com[key_new]:\n",
    "                        dic_com[key_new] = True\n",
    "                        res.append((key-k, key))\n",
    "                        count += 1\n",
    "            else:\n",
    "                if dic[key] > 1:\n",
    "                    key_new = str(key) + \"-\" + str(key)\n",
    "                    \n",
    "                    if not dic_com[key_new]:\n",
    "                        dic_com[key_new] = True\n",
    "                        res.append((key,key))\n",
    "                        count += 1   \n",
    "         \n",
    "        print(res)\n",
    "        return count \n",
    "    "
   ]
  },
  {
   "cell_type": "code",
   "execution_count": 20,
   "metadata": {},
   "outputs": [
    {
     "name": "stdout",
     "output_type": "stream",
     "text": [
      "[(1, 3), (3, 5)]\n",
      "2\n"
     ]
    }
   ],
   "source": [
    "nums = [1,3,5]\n",
    "k = 2\n",
    "\n",
    "solution = Solution()\n",
    "result = solution.countPairs(nums, k)\n",
    "print(result)\n"
   ]
  },
  {
   "cell_type": "markdown",
   "metadata": {},
   "source": [
    "### Case 2: If k is allowed to be negative"
   ]
  },
  {
   "cell_type": "code",
   "execution_count": 17,
   "metadata": {},
   "outputs": [],
   "source": [
    "from collections import defaultdict\n",
    "\n",
    "class Solution(object):\n",
    "    def countPairs(self, nums, k):\n",
    "        \"\"\"\n",
    "        :type nums: List[int]\n",
    "        :type k: int\n",
    "        :rtype: int\n",
    "        \"\"\"\n",
    "        \n",
    "        if not nums: \n",
    "            return 0\n",
    "        \n",
    "        count = 0\n",
    "        dic = defaultdict(int)\n",
    "        dic_com = defaultdict(bool)\n",
    "        res = []\n",
    "        \n",
    "        for ele in nums:\n",
    "            dic[ele] += 1            \n",
    "        \n",
    "        for key in list(dic):\n",
    "            if k > 0:\n",
    "                if dic[key-k] > 0:\n",
    "                    key_new = str(key-k) + \"-\" + str(key)\n",
    "                    \n",
    "                    if not dic_com[key_new]:\n",
    "                        dic_com[key_new] = True\n",
    "                        res.append((key-k, key))\n",
    "                        count += 1\n",
    "            elif k < 0:\n",
    "                if dic[key-k] > 0:\n",
    "                    key_new = str(key) + \"-\" + str(key-k)\n",
    "                    \n",
    "                    if not dic_com[key_new]:\n",
    "                        dic_com[key_new] = True\n",
    "                        res.append((key,key-k))\n",
    "                        count += 1\n",
    "            else:\n",
    "                if dic[key] > 1:\n",
    "                    key_new = str(key) + \"-\" + str(key)\n",
    "                    \n",
    "                    if not dic_com[key_new]:\n",
    "                        dic_com[key_new] = True\n",
    "                        res.append((key,key))\n",
    "                        count += 1   \n",
    "         \n",
    "        print(res)\n",
    "        return count "
   ]
  },
  {
   "cell_type": "code",
   "execution_count": 18,
   "metadata": {},
   "outputs": [
    {
     "name": "stdout",
     "output_type": "stream",
     "text": [
      "[(1, 3), (3, 5)]\n",
      "2\n"
     ]
    }
   ],
   "source": [
    "nums = [1,3,5]\n",
    "k = 2\n",
    "\n",
    "solution = Solution()\n",
    "result = solution.countPairs(nums, k)\n",
    "print(result)"
   ]
  },
  {
   "cell_type": "code",
   "execution_count": null,
   "metadata": {},
   "outputs": [],
   "source": []
  }
 ],
 "metadata": {
  "kernelspec": {
   "display_name": "Python 3",
   "language": "python",
   "name": "python3"
  },
  "language_info": {
   "codemirror_mode": {
    "name": "ipython",
    "version": 3
   },
   "file_extension": ".py",
   "mimetype": "text/x-python",
   "name": "python",
   "nbconvert_exporter": "python",
   "pygments_lexer": "ipython3",
   "version": "3.7.3"
  }
 },
 "nbformat": 4,
 "nbformat_minor": 2
}
